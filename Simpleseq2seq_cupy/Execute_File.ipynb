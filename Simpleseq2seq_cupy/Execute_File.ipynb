{
 "cells": [
  {
   "cell_type": "code",
   "execution_count": 1,
   "id": "0800eb2e",
   "metadata": {},
   "outputs": [
    {
     "name": "stdout",
     "output_type": "stream",
     "text": [
      "\u001b[92m------------------------------------------------------------\u001b[0m\n",
      "                       \u001b[92mGPU Mode (cupy)\u001b[0m\n",
      "\u001b[92m------------------------------------------------------------\u001b[0m\n",
      "\n",
      "  0%|                                                   | 0/200 [00:37<?, ?it/s]\n",
      "Traceback (most recent call last):\n",
      "  File \"./code/train_seq2seq_real.py\", line 100, in <module>\n",
      "    id_to_char, verbose, is_reverse)\n",
      "  File \"./common/util.py\", line 659, in eval_seq2seq_real\n",
      "    affine_list = np.array(affine_list)\n",
      "  File \"/home/gpuadmin/anaconda3/envs/ahjeong/lib/python3.7/site-packages/cupy/_creation/from_data.py\", line 41, in array\n",
      "    return core.array(obj, dtype, copy, order, subok, ndmin)\n",
      "  File \"cupy/core/core.pyx\", line 2004, in cupy.core.core.array\n",
      "  File \"cupy/core/core.pyx\", line 2069, in cupy.core.core.array\n",
      "  File \"cupy/core/_routines_manipulation.pyx\", line 553, in cupy.core._routines_manipulation.concatenate_method\n",
      "TypeError: zero-dimensional arrays cannot be concatenated\n"
     ]
    }
   ],
   "source": [
    "!python ./code/train_seq2seq_real.py"
   ]
  }
 ],
 "metadata": {
  "kernelspec": {
   "display_name": "Python 3",
   "language": "python",
   "name": "python3"
  },
  "language_info": {
   "codemirror_mode": {
    "name": "ipython",
    "version": 3
   },
   "file_extension": ".py",
   "mimetype": "text/x-python",
   "name": "python",
   "nbconvert_exporter": "python",
   "pygments_lexer": "ipython3",
   "version": "3.7.9"
  }
 },
 "nbformat": 4,
 "nbformat_minor": 5
}
