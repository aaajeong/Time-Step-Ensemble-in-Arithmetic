{
 "cells": [
  {
   "cell_type": "code",
   "execution_count": 1,
   "id": "0800eb2e",
   "metadata": {},
   "outputs": [
    {
     "name": "stdout",
     "output_type": "stream",
     "text": [
      "['/home/gpuadmin/ahjeong/Arithmetic-with-Seq2Seq/Simpleseq2seq_cupy/code', '/home/gpuadmin/anaconda3/envs/ahjeong/lib/python37.zip', '/home/gpuadmin/anaconda3/envs/ahjeong/lib/python3.7', '/home/gpuadmin/anaconda3/envs/ahjeong/lib/python3.7/lib-dynload', '/home/gpuadmin/anaconda3/envs/ahjeong/lib/python3.7/site-packages', './']\n",
      "\u001b[92m------------------------------------------------------------\u001b[0m\n",
      "                       \u001b[92mGPU Mode (cupy)\u001b[0m\n",
      "\u001b[92m------------------------------------------------------------\u001b[0m\n",
      "\n",
      "100%|█████████████████████████████████████| 200/200 [10:24:04<00:00, 187.22s/it]\n"
     ]
    }
   ],
   "source": [
    "!python ./code/train_seq2seq_esb.py"
   ]
  }
 ],
 "metadata": {
  "kernelspec": {
   "display_name": "Python 3",
   "language": "python",
   "name": "python3"
  },
  "language_info": {
   "codemirror_mode": {
    "name": "ipython",
    "version": 3
   },
   "file_extension": ".py",
   "mimetype": "text/x-python",
   "name": "python",
   "nbconvert_exporter": "python",
   "pygments_lexer": "ipython3",
   "version": "3.7.9"
  }
 },
 "nbformat": 4,
 "nbformat_minor": 5
}
