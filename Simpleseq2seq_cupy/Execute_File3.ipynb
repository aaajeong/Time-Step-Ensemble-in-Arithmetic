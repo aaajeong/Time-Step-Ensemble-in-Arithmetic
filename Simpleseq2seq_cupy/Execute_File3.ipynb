{
 "cells": [
  {
   "cell_type": "code",
   "execution_count": 3,
   "id": "0800eb2e",
   "metadata": {},
   "outputs": [
    {
     "name": "stdout",
     "output_type": "stream",
     "text": [
      "\u001b[92m------------------------------------------------------------\u001b[0m\n",
      "                       \u001b[92mGPU Mode (cupy)\u001b[0m\n",
      "\u001b[92m------------------------------------------------------------\u001b[0m\n",
      "\n",
      "100%|█████████████████████████████████████| 200/200 [13:46:54<00:00, 248.07s/it]\n"
     ]
    }
   ],
   "source": [
    "!python ./code/train_seq2seq_survival.py"
   ]
  }
 ],
 "metadata": {
  "kernelspec": {
   "display_name": "Python 3",
   "language": "python",
   "name": "python3"
  },
  "language_info": {
   "codemirror_mode": {
    "name": "ipython",
    "version": 3
   },
   "file_extension": ".py",
   "mimetype": "text/x-python",
   "name": "python",
   "nbconvert_exporter": "python",
   "pygments_lexer": "ipython3",
   "version": "3.7.9"
  }
 },
 "nbformat": 4,
 "nbformat_minor": 5
}
