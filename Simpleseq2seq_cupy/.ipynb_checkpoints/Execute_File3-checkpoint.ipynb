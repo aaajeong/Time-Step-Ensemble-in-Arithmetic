{
 "cells": [
  {
   "cell_type": "code",
   "execution_count": null,
   "id": "0800eb2e",
   "metadata": {},
   "outputs": [
    {
     "name": "stdout",
     "output_type": "stream",
     "text": [
      "2021-10-05 16:27:14.543617: I tensorflow/core/platform/cpu_feature_guard.cc:142] Your CPU supports instructions that this TensorFlow binary was not compiled to use: SSE4.1 SSE4.2 AVX AVX2 FMA\n",
      "2021-10-05 16:27:14.588169: I tensorflow/core/platform/profile_utils/cpu_utils.cc:94] CPU Frequency: 2095290000 Hz\n",
      "2021-10-05 16:27:14.590075: I tensorflow/compiler/xla/service/service.cc:168] XLA service 0x561c2eaad8e0 initialized for platform Host (this does not guarantee that XLA will be used). Devices:\n",
      "2021-10-05 16:27:14.590120: I tensorflow/compiler/xla/service/service.cc:176]   StreamExecutor device (0): Host, Default Version\n",
      "2021-10-05 16:27:14.591689: I tensorflow/stream_executor/platform/default/dso_loader.cc:44] Successfully opened dynamic library libcuda.so.1\n",
      "2021-10-05 16:27:14.632465: I tensorflow/core/common_runtime/gpu/gpu_device.cc:1555] Found device 0 with properties: \n",
      "pciBusID: 0000:88:00.0 name: GeForce GTX 1080 Ti computeCapability: 6.1\n",
      "coreClock: 1.582GHz coreCount: 28 deviceMemorySize: 10.92GiB deviceMemoryBandwidth: 451.17GiB/s\n",
      "2021-10-05 16:27:14.632799: I tensorflow/stream_executor/platform/default/dso_loader.cc:44] Successfully opened dynamic library libcudart.so.10.1\n",
      "2021-10-05 16:27:14.635868: I tensorflow/stream_executor/platform/default/dso_loader.cc:44] Successfully opened dynamic library libcublas.so.10\n",
      "2021-10-05 16:27:14.648515: I tensorflow/stream_executor/platform/default/dso_loader.cc:44] Successfully opened dynamic library libcufft.so.10\n",
      "2021-10-05 16:27:14.648977: I tensorflow/stream_executor/platform/default/dso_loader.cc:44] Successfully opened dynamic library libcurand.so.10\n",
      "2021-10-05 16:27:14.652254: I tensorflow/stream_executor/platform/default/dso_loader.cc:44] Successfully opened dynamic library libcusolver.so.10\n",
      "2021-10-05 16:27:14.654239: I tensorflow/stream_executor/platform/default/dso_loader.cc:44] Successfully opened dynamic library libcusparse.so.10\n",
      "2021-10-05 16:27:14.661510: I tensorflow/stream_executor/platform/default/dso_loader.cc:44] Successfully opened dynamic library libcudnn.so.7\n",
      "2021-10-05 16:27:14.664945: I tensorflow/core/common_runtime/gpu/gpu_device.cc:1697] Adding visible gpu devices: 0\n",
      "2021-10-05 16:27:14.665027: I tensorflow/stream_executor/platform/default/dso_loader.cc:44] Successfully opened dynamic library libcudart.so.10.1\n",
      "2021-10-05 16:27:14.959769: I tensorflow/core/common_runtime/gpu/gpu_device.cc:1096] Device interconnect StreamExecutor with strength 1 edge matrix:\n",
      "2021-10-05 16:27:14.959834: I tensorflow/core/common_runtime/gpu/gpu_device.cc:1102]      0 \n",
      "2021-10-05 16:27:14.959851: I tensorflow/core/common_runtime/gpu/gpu_device.cc:1115] 0:   N \n",
      "2021-10-05 16:27:14.966293: I tensorflow/core/common_runtime/gpu/gpu_device.cc:1241] Created TensorFlow device (/device:GPU:0 with 10489 MB memory) -> physical GPU (device: 0, name: GeForce GTX 1080 Ti, pci bus id: 0000:88:00.0, compute capability: 6.1)\n",
      "2021-10-05 16:27:14.988867: I tensorflow/compiler/xla/service/service.cc:168] XLA service 0x561c3242e980 initialized for platform CUDA (this does not guarantee that XLA will be used). Devices:\n",
      "2021-10-05 16:27:14.988917: I tensorflow/compiler/xla/service/service.cc:176]   StreamExecutor device (0): GeForce GTX 1080 Ti, Compute Capability 6.1\n",
      "[name: \"/device:CPU:0\"\n",
      "device_type: \"CPU\"\n",
      "memory_limit: 268435456\n",
      "locality {\n",
      "}\n",
      "incarnation: 1951729696984746439\n",
      ", name: \"/device:XLA_CPU:0\"\n",
      "device_type: \"XLA_CPU\"\n",
      "memory_limit: 17179869184\n",
      "locality {\n",
      "}\n",
      "incarnation: 15427157879868911626\n",
      "physical_device_desc: \"device: XLA_CPU device\"\n",
      ", name: \"/device:GPU:0\"\n",
      "device_type: \"GPU\"\n",
      "memory_limit: 10998834791\n",
      "locality {\n",
      "  bus_id: 2\n",
      "  numa_node: 1\n",
      "  links {\n",
      "  }\n",
      "}\n",
      "incarnation: 5156279782663260151\n",
      "physical_device_desc: \"device: 0, name: GeForce GTX 1080 Ti, pci bus id: 0000:88:00.0, compute capability: 6.1\"\n",
      ", name: \"/device:XLA_GPU:0\"\n",
      "device_type: \"XLA_GPU\"\n",
      "memory_limit: 17179869184\n",
      "locality {\n",
      "}\n",
      "incarnation: 3982692845290850284\n",
      "physical_device_desc: \"device: XLA_GPU device\"\n",
      "]\n",
      "  2%|▊                                      | 4/200 [39:50<33:55:19, 623.06s/it]"
     ]
    }
   ],
   "source": [
    "! CUDA_VISIBLE_DEVICES=4 python ./code/train_seq2seq_esb_3.py"
   ]
  },
  {
   "cell_type": "code",
   "execution_count": null,
   "id": "99253c73",
   "metadata": {},
   "outputs": [],
   "source": [
    "! CUDA_VISIBLE_DEVICES=3 python ./code/train_seq2seq.py"
   ]
  }
 ],
 "metadata": {
  "kernelspec": {
   "display_name": "Python 3",
   "language": "python",
   "name": "python3"
  },
  "language_info": {
   "codemirror_mode": {
    "name": "ipython",
    "version": 3
   },
   "file_extension": ".py",
   "mimetype": "text/x-python",
   "name": "python",
   "nbconvert_exporter": "python",
   "pygments_lexer": "ipython3",
   "version": "3.7.9"
  }
 },
 "nbformat": 4,
 "nbformat_minor": 5
}
