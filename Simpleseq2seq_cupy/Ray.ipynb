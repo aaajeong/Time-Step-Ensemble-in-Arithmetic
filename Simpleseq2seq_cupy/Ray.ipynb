{
 "cells": [
  {
   "cell_type": "code",
   "execution_count": 1,
   "id": "0727285f",
   "metadata": {},
   "outputs": [],
   "source": [
    "import ray\n",
    "import psutil"
   ]
  },
  {
   "cell_type": "code",
   "execution_count": 2,
   "id": "18f9e08b",
   "metadata": {},
   "outputs": [
    {
     "name": "stdout",
     "output_type": "stream",
     "text": [
      "1.1.0\n",
      "32\n"
     ]
    },
    {
     "name": "stderr",
     "output_type": "stream",
     "text": [
      "2021-11-16 13:42:11,928\tINFO services.py:1173 -- View the Ray dashboard at \u001b[1m\u001b[32mhttp://127.0.0.1:8265\u001b[39m\u001b[22m\n"
     ]
    },
    {
     "data": {
      "text/plain": [
       "{'node_ip_address': '203.153.147.41',\n",
       " 'raylet_ip_address': '203.153.147.41',\n",
       " 'redis_address': '203.153.147.41:6379',\n",
       " 'object_store_address': '/tmp/ray/session_2021-11-16_13-42-11_441886_14471/sockets/plasma_store',\n",
       " 'raylet_socket_name': '/tmp/ray/session_2021-11-16_13-42-11_441886_14471/sockets/raylet',\n",
       " 'webui_url': '127.0.0.1:8265',\n",
       " 'session_dir': '/tmp/ray/session_2021-11-16_13-42-11_441886_14471',\n",
       " 'metrics_export_port': 54762,\n",
       " 'node_id': '4d886d9cf3a53ebce144e276445299f8954f105e'}"
      ]
     },
     "execution_count": 2,
     "metadata": {},
     "output_type": "execute_result"
    }
   ],
   "source": [
    "print(ray.__version__)\n",
    "num_logical_cpus = psutil.cpu_count()\n",
    "print(num_logical_cpus)\n",
    "ray.init(num_cpus = num_logical_cpus)"
   ]
  },
  {
   "cell_type": "code",
   "execution_count": 5,
   "id": "8ed7531f",
   "metadata": {},
   "outputs": [
    {
     "name": "stderr",
     "output_type": "stream",
     "text": [
      "\u001b[2m\u001b[33m(pid=raylet)\u001b[0m Traceback (most recent call last):\n",
      "\u001b[2m\u001b[33m(pid=raylet)\u001b[0m   File \"/home/gpuadmin/anaconda3/envs/ahjeong/lib/python3.7/site-packages/ray/new_dashboard/agent.py\", line 21, in <module>\n",
      "\u001b[2m\u001b[33m(pid=raylet)\u001b[0m     import ray.new_dashboard.utils as dashboard_utils\n",
      "\u001b[2m\u001b[33m(pid=raylet)\u001b[0m   File \"/home/gpuadmin/anaconda3/envs/ahjeong/lib/python3.7/site-packages/ray/new_dashboard/utils.py\", line 25, in <module>\n",
      "\u001b[2m\u001b[33m(pid=raylet)\u001b[0m     from aiohttp.frozenlist import FrozenList\n",
      "\u001b[2m\u001b[33m(pid=raylet)\u001b[0m ModuleNotFoundError: No module named 'aiohttp.frozenlist'\n",
      "\u001b[2m\u001b[33m(pid=raylet)\u001b[0m Traceback (most recent call last):\n",
      "\u001b[2m\u001b[33m(pid=raylet)\u001b[0m   File \"/home/gpuadmin/anaconda3/envs/ahjeong/lib/python3.7/site-packages/ray/new_dashboard/agent.py\", line 21, in <module>\n",
      "\u001b[2m\u001b[33m(pid=raylet)\u001b[0m     import ray.new_dashboard.utils as dashboard_utils\n",
      "\u001b[2m\u001b[33m(pid=raylet)\u001b[0m   File \"/home/gpuadmin/anaconda3/envs/ahjeong/lib/python3.7/site-packages/ray/new_dashboard/utils.py\", line 25, in <module>\n",
      "\u001b[2m\u001b[33m(pid=raylet)\u001b[0m     from aiohttp.frozenlist import FrozenList\n",
      "\u001b[2m\u001b[33m(pid=raylet)\u001b[0m ModuleNotFoundError: No module named 'aiohttp.frozenlist'\n",
      "\u001b[2m\u001b[33m(pid=raylet)\u001b[0m Traceback (most recent call last):\n",
      "\u001b[2m\u001b[33m(pid=raylet)\u001b[0m   File \"/home/gpuadmin/anaconda3/envs/ahjeong/lib/python3.7/site-packages/ray/new_dashboard/agent.py\", line 21, in <module>\n",
      "\u001b[2m\u001b[33m(pid=raylet)\u001b[0m     import ray.new_dashboard.utils as dashboard_utils\n",
      "\u001b[2m\u001b[33m(pid=raylet)\u001b[0m   File \"/home/gpuadmin/anaconda3/envs/ahjeong/lib/python3.7/site-packages/ray/new_dashboard/utils.py\", line 25, in <module>\n",
      "\u001b[2m\u001b[33m(pid=raylet)\u001b[0m     from aiohttp.frozenlist import FrozenList\n",
      "\u001b[2m\u001b[33m(pid=raylet)\u001b[0m ModuleNotFoundError: No module named 'aiohttp.frozenlist'\n",
      "\u001b[2m\u001b[33m(pid=raylet)\u001b[0m Traceback (most recent call last):\n",
      "\u001b[2m\u001b[33m(pid=raylet)\u001b[0m   File \"/home/gpuadmin/anaconda3/envs/ahjeong/lib/python3.7/site-packages/ray/new_dashboard/agent.py\", line 21, in <module>\n",
      "\u001b[2m\u001b[33m(pid=raylet)\u001b[0m     import ray.new_dashboard.utils as dashboard_utils\n",
      "\u001b[2m\u001b[33m(pid=raylet)\u001b[0m   File \"/home/gpuadmin/anaconda3/envs/ahjeong/lib/python3.7/site-packages/ray/new_dashboard/utils.py\", line 25, in <module>\n",
      "\u001b[2m\u001b[33m(pid=raylet)\u001b[0m     from aiohttp.frozenlist import FrozenList\n",
      "\u001b[2m\u001b[33m(pid=raylet)\u001b[0m ModuleNotFoundError: No module named 'aiohttp.frozenlist'\n",
      "\u001b[2m\u001b[33m(pid=raylet)\u001b[0m Traceback (most recent call last):\n",
      "\u001b[2m\u001b[33m(pid=raylet)\u001b[0m   File \"/home/gpuadmin/anaconda3/envs/ahjeong/lib/python3.7/site-packages/ray/new_dashboard/agent.py\", line 21, in <module>\n",
      "\u001b[2m\u001b[33m(pid=raylet)\u001b[0m     import ray.new_dashboard.utils as dashboard_utils\n",
      "\u001b[2m\u001b[33m(pid=raylet)\u001b[0m   File \"/home/gpuadmin/anaconda3/envs/ahjeong/lib/python3.7/site-packages/ray/new_dashboard/utils.py\", line 25, in <module>\n",
      "\u001b[2m\u001b[33m(pid=raylet)\u001b[0m     from aiohttp.frozenlist import FrozenList\n",
      "\u001b[2m\u001b[33m(pid=raylet)\u001b[0m ModuleNotFoundError: No module named 'aiohttp.frozenlist'\n",
      "\u001b[2m\u001b[33m(pid=raylet)\u001b[0m Traceback (most recent call last):\n",
      "\u001b[2m\u001b[33m(pid=raylet)\u001b[0m   File \"/home/gpuadmin/anaconda3/envs/ahjeong/lib/python3.7/site-packages/ray/new_dashboard/agent.py\", line 21, in <module>\n",
      "\u001b[2m\u001b[33m(pid=raylet)\u001b[0m     import ray.new_dashboard.utils as dashboard_utils\n",
      "\u001b[2m\u001b[33m(pid=raylet)\u001b[0m   File \"/home/gpuadmin/anaconda3/envs/ahjeong/lib/python3.7/site-packages/ray/new_dashboard/utils.py\", line 25, in <module>\n",
      "\u001b[2m\u001b[33m(pid=raylet)\u001b[0m     from aiohttp.frozenlist import FrozenList\n",
      "\u001b[2m\u001b[33m(pid=raylet)\u001b[0m ModuleNotFoundError: No module named 'aiohttp.frozenlist'\n",
      "\u001b[2m\u001b[33m(pid=raylet)\u001b[0m Traceback (most recent call last):\n",
      "\u001b[2m\u001b[33m(pid=raylet)\u001b[0m   File \"/home/gpuadmin/anaconda3/envs/ahjeong/lib/python3.7/site-packages/ray/new_dashboard/agent.py\", line 21, in <module>\n",
      "\u001b[2m\u001b[33m(pid=raylet)\u001b[0m     import ray.new_dashboard.utils as dashboard_utils\n",
      "\u001b[2m\u001b[33m(pid=raylet)\u001b[0m   File \"/home/gpuadmin/anaconda3/envs/ahjeong/lib/python3.7/site-packages/ray/new_dashboard/utils.py\", line 25, in <module>\n",
      "\u001b[2m\u001b[33m(pid=raylet)\u001b[0m     from aiohttp.frozenlist import FrozenList\n",
      "\u001b[2m\u001b[33m(pid=raylet)\u001b[0m ModuleNotFoundError: No module named 'aiohttp.frozenlist'\n",
      "\u001b[2m\u001b[33m(pid=raylet)\u001b[0m Traceback (most recent call last):\n",
      "\u001b[2m\u001b[33m(pid=raylet)\u001b[0m   File \"/home/gpuadmin/anaconda3/envs/ahjeong/lib/python3.7/site-packages/ray/new_dashboard/agent.py\", line 21, in <module>\n",
      "\u001b[2m\u001b[33m(pid=raylet)\u001b[0m     import ray.new_dashboard.utils as dashboard_utils\n",
      "\u001b[2m\u001b[33m(pid=raylet)\u001b[0m   File \"/home/gpuadmin/anaconda3/envs/ahjeong/lib/python3.7/site-packages/ray/new_dashboard/utils.py\", line 25, in <module>\n",
      "\u001b[2m\u001b[33m(pid=raylet)\u001b[0m     from aiohttp.frozenlist import FrozenList\n",
      "\u001b[2m\u001b[33m(pid=raylet)\u001b[0m ModuleNotFoundError: No module named 'aiohttp.frozenlist'\n",
      "\u001b[2m\u001b[33m(pid=raylet)\u001b[0m Traceback (most recent call last):\n",
      "\u001b[2m\u001b[33m(pid=raylet)\u001b[0m   File \"/home/gpuadmin/anaconda3/envs/ahjeong/lib/python3.7/site-packages/ray/new_dashboard/agent.py\", line 21, in <module>\n",
      "\u001b[2m\u001b[33m(pid=raylet)\u001b[0m     import ray.new_dashboard.utils as dashboard_utils\n",
      "\u001b[2m\u001b[33m(pid=raylet)\u001b[0m   File \"/home/gpuadmin/anaconda3/envs/ahjeong/lib/python3.7/site-packages/ray/new_dashboard/utils.py\", line 25, in <module>\n",
      "\u001b[2m\u001b[33m(pid=raylet)\u001b[0m     from aiohttp.frozenlist import FrozenList\n",
      "\u001b[2m\u001b[33m(pid=raylet)\u001b[0m ModuleNotFoundError: No module named 'aiohttp.frozenlist'\n",
      "\u001b[2m\u001b[33m(pid=raylet)\u001b[0m Traceback (most recent call last):\n",
      "\u001b[2m\u001b[33m(pid=raylet)\u001b[0m   File \"/home/gpuadmin/anaconda3/envs/ahjeong/lib/python3.7/site-packages/ray/new_dashboard/agent.py\", line 21, in <module>\n",
      "\u001b[2m\u001b[33m(pid=raylet)\u001b[0m     import ray.new_dashboard.utils as dashboard_utils\n",
      "\u001b[2m\u001b[33m(pid=raylet)\u001b[0m   File \"/home/gpuadmin/anaconda3/envs/ahjeong/lib/python3.7/site-packages/ray/new_dashboard/utils.py\", line 25, in <module>\n",
      "\u001b[2m\u001b[33m(pid=raylet)\u001b[0m     from aiohttp.frozenlist import FrozenList\n",
      "\u001b[2m\u001b[33m(pid=raylet)\u001b[0m ModuleNotFoundError: No module named 'aiohttp.frozenlist'\n",
      "\u001b[2m\u001b[33m(pid=raylet)\u001b[0m Traceback (most recent call last):\n",
      "\u001b[2m\u001b[33m(pid=raylet)\u001b[0m   File \"/home/gpuadmin/anaconda3/envs/ahjeong/lib/python3.7/site-packages/ray/new_dashboard/agent.py\", line 21, in <module>\n",
      "\u001b[2m\u001b[33m(pid=raylet)\u001b[0m     import ray.new_dashboard.utils as dashboard_utils\n",
      "\u001b[2m\u001b[33m(pid=raylet)\u001b[0m   File \"/home/gpuadmin/anaconda3/envs/ahjeong/lib/python3.7/site-packages/ray/new_dashboard/utils.py\", line 25, in <module>\n",
      "\u001b[2m\u001b[33m(pid=raylet)\u001b[0m     from aiohttp.frozenlist import FrozenList\n",
      "\u001b[2m\u001b[33m(pid=raylet)\u001b[0m ModuleNotFoundError: No module named 'aiohttp.frozenlist'\n",
      "\u001b[2m\u001b[33m(pid=raylet)\u001b[0m Traceback (most recent call last):\n",
      "\u001b[2m\u001b[33m(pid=raylet)\u001b[0m   File \"/home/gpuadmin/anaconda3/envs/ahjeong/lib/python3.7/site-packages/ray/new_dashboard/agent.py\", line 21, in <module>\n",
      "\u001b[2m\u001b[33m(pid=raylet)\u001b[0m     import ray.new_dashboard.utils as dashboard_utils\n",
      "\u001b[2m\u001b[33m(pid=raylet)\u001b[0m   File \"/home/gpuadmin/anaconda3/envs/ahjeong/lib/python3.7/site-packages/ray/new_dashboard/utils.py\", line 25, in <module>\n",
      "\u001b[2m\u001b[33m(pid=raylet)\u001b[0m     from aiohttp.frozenlist import FrozenList\n",
      "\u001b[2m\u001b[33m(pid=raylet)\u001b[0m ModuleNotFoundError: No module named 'aiohttp.frozenlist'\n",
      "\u001b[2m\u001b[33m(pid=raylet)\u001b[0m Traceback (most recent call last):\n",
      "\u001b[2m\u001b[33m(pid=raylet)\u001b[0m   File \"/home/gpuadmin/anaconda3/envs/ahjeong/lib/python3.7/site-packages/ray/new_dashboard/agent.py\", line 21, in <module>\n",
      "\u001b[2m\u001b[33m(pid=raylet)\u001b[0m     import ray.new_dashboard.utils as dashboard_utils\n",
      "\u001b[2m\u001b[33m(pid=raylet)\u001b[0m   File \"/home/gpuadmin/anaconda3/envs/ahjeong/lib/python3.7/site-packages/ray/new_dashboard/utils.py\", line 25, in <module>\n",
      "\u001b[2m\u001b[33m(pid=raylet)\u001b[0m     from aiohttp.frozenlist import FrozenList\n",
      "\u001b[2m\u001b[33m(pid=raylet)\u001b[0m ModuleNotFoundError: No module named 'aiohttp.frozenlist'\n",
      "\u001b[2m\u001b[33m(pid=raylet)\u001b[0m Traceback (most recent call last):\n",
      "\u001b[2m\u001b[33m(pid=raylet)\u001b[0m   File \"/home/gpuadmin/anaconda3/envs/ahjeong/lib/python3.7/site-packages/ray/new_dashboard/agent.py\", line 21, in <module>\n",
      "\u001b[2m\u001b[33m(pid=raylet)\u001b[0m     import ray.new_dashboard.utils as dashboard_utils\n",
      "\u001b[2m\u001b[33m(pid=raylet)\u001b[0m   File \"/home/gpuadmin/anaconda3/envs/ahjeong/lib/python3.7/site-packages/ray/new_dashboard/utils.py\", line 25, in <module>\n",
      "\u001b[2m\u001b[33m(pid=raylet)\u001b[0m     from aiohttp.frozenlist import FrozenList\n",
      "\u001b[2m\u001b[33m(pid=raylet)\u001b[0m ModuleNotFoundError: No module named 'aiohttp.frozenlist'\n"
     ]
    },
    {
     "name": "stderr",
     "output_type": "stream",
     "text": [
      "\u001b[2m\u001b[33m(pid=raylet)\u001b[0m Traceback (most recent call last):\n",
      "\u001b[2m\u001b[33m(pid=raylet)\u001b[0m   File \"/home/gpuadmin/anaconda3/envs/ahjeong/lib/python3.7/site-packages/ray/new_dashboard/agent.py\", line 21, in <module>\n",
      "\u001b[2m\u001b[33m(pid=raylet)\u001b[0m     import ray.new_dashboard.utils as dashboard_utils\n",
      "\u001b[2m\u001b[33m(pid=raylet)\u001b[0m   File \"/home/gpuadmin/anaconda3/envs/ahjeong/lib/python3.7/site-packages/ray/new_dashboard/utils.py\", line 25, in <module>\n",
      "\u001b[2m\u001b[33m(pid=raylet)\u001b[0m     from aiohttp.frozenlist import FrozenList\n",
      "\u001b[2m\u001b[33m(pid=raylet)\u001b[0m ModuleNotFoundError: No module named 'aiohttp.frozenlist'\n"
     ]
    }
   ],
   "source": [
    "import numpy as np\n",
    "from aiohttp import *\n",
    "arr = np.random.random(1000000)\n",
    " \n",
    "@ray.remote\n",
    "def mul(x):\n",
    "  return x * 10\n",
    " \n",
    "arr = ray.put(arr)\n",
    "result = ray.get(mul.remote(arr))"
   ]
  }
 ],
 "metadata": {
  "kernelspec": {
   "display_name": "Python 3",
   "language": "python",
   "name": "python3"
  },
  "language_info": {
   "codemirror_mode": {
    "name": "ipython",
    "version": 3
   },
   "file_extension": ".py",
   "mimetype": "text/x-python",
   "name": "python",
   "nbconvert_exporter": "python",
   "pygments_lexer": "ipython3",
   "version": "3.7.9"
  }
 },
 "nbformat": 4,
 "nbformat_minor": 5
}
