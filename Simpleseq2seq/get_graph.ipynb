{
 "cells": [
  {
   "cell_type": "code",
   "execution_count": 86,
   "metadata": {},
   "outputs": [],
   "source": [
    "from matplotlib import pyplot as plt\n",
    "import numpy as np"
   ]
  },
  {
   "cell_type": "markdown",
   "metadata": {},
   "source": [
    "### 각 모델 5개 검증정확도 추출"
   ]
  },
  {
   "cell_type": "code",
   "execution_count": 103,
   "metadata": {},
   "outputs": [],
   "source": [
    "acc_list = []\n",
    "f = open(\"./training_memo/PlusMinus/single_avg/plusminus_single_test.txt\", 'r', encoding=\"utf-8\")\n",
    "while True:\n",
    "    line = f.readline()\n",
    "    if line[:6] == '검증 정확도':\n",
    "        acc_list.append(line[7:12])\n",
    "    if not line: break\n",
    "acc_list1 = list(map(float, acc_list))\n",
    "f.close()\n",
    "\n",
    "acc_list = []\n",
    "\n",
    "f = open(\"./training_memo/PlusMinus/single_avg/2-plusminus_single_test.txt\", 'r', encoding=\"utf-8\")\n",
    "while True:\n",
    "    line = f.readline()\n",
    "    if line[:6] == '검증 정확도':\n",
    "        acc_list.append(line[7:12])\n",
    "    if not line: break\n",
    "acc_list2 = list(map(float, acc_list))\n",
    "f.close()\n",
    "\n",
    "acc_list = []\n",
    "\n",
    "f = open(\"./training_memo/PlusMinus/single_avg/3-plusminus_single_test.txt\", 'r', encoding=\"utf-8\")\n",
    "while True:\n",
    "    line = f.readline()\n",
    "    if line[:6] == '검증 정확도':\n",
    "        acc_list.append(line[7:12])\n",
    "    if not line: break\n",
    "acc_list3 = list(map(float, acc_list))\n",
    "f.close()\n",
    "\n",
    "acc_list = []\n",
    "\n",
    "f = open(\"./training_memo/PlusMinus/single_avg/4-plusminus_single_test.txt\", 'r', encoding=\"utf-8\")\n",
    "while True:\n",
    "    line = f.readline()\n",
    "    if line[:6] == '검증 정확도':\n",
    "        acc_list.append(line[7:12])\n",
    "    if not line: break\n",
    "acc_list4 = list(map(float, acc_list))\n",
    "f.close()\n",
    "\n",
    "acc_list = []\n",
    "\n",
    "f = open(\"./training_memo/PlusMinus/single_avg/5-plusminus_single_test.txt\", 'r', encoding=\"utf-8\")\n",
    "while True:\n",
    "    line = f.readline()\n",
    "    if line[:6] == '검증 정확도':\n",
    "        acc_list.append(line[7:12])\n",
    "    if not line: break\n",
    "acc_list5 = list(map(float, acc_list))\n",
    "f.close()"
   ]
  },
  {
   "cell_type": "code",
   "execution_count": 104,
   "metadata": {},
   "outputs": [],
   "source": [
    "acc_list1 = np.array(acc_list1)\n",
    "acc_list2 = np.array(acc_list2)\n",
    "acc_list3 = np.array(acc_list3)\n",
    "acc_list4 = np.array(acc_list4)\n",
    "acc_list5 = np.array(acc_list5)"
   ]
  },
  {
   "cell_type": "markdown",
   "metadata": {},
   "source": [
    "### 각 모델 정확도 그래프 출력"
   ]
  },
  {
   "cell_type": "code",
   "execution_count": 109,
   "metadata": {},
   "outputs": [
    {
     "data": {
      "image/png": "[encoded data removed]",
      "text/plain": [
       "<Figure size 432x288 with 1 Axes>"
      ]
     },
     "metadata": {
      "needs_background": "light"
     },
     "output_type": "display_data"
    }
   ],
   "source": [
    "x_values = np.arange(200)\n",
    "plt.plot(x_values, acc_list5, color=\"#2ca02c\")\n",
    "# plt.legend(['Soft Voting'])\n",
    "plt.ylim(0, 100)\n",
    "plt.xlabel('Epoch')\n",
    "plt.ylabel('Accuracy')\n",
    "# plt.title('PlusMinus Accuracy')\n",
    "plt.savefig('Survival-5.png', dpi=300, bbox_inches='tight', pad_inches=0)\n",
    "plt.show()"
   ]
  }
 ],
 "metadata": {
  "interpreter": {
   "hash": "8acd2a4c40bb06440d03e583eeea35c6596324a3385dafe16353bbc1939be192"
  },
  "kernelspec": {
   "display_name": "Python 3.6.12 ('tensorflow')",
   "language": "python",
   "name": "python3"
  },
  "language_info": {
   "codemirror_mode": {
    "name": "ipython",
    "version": 3
   },
   "file_extension": ".py",
   "mimetype": "text/x-python",
   "name": "python",
   "nbconvert_exporter": "python",
   "pygments_lexer": "ipython3",
   "version": "3.6.12"
  },
  "orig_nbformat": 4
 },
 "nbformat": 4,
 "nbformat_minor": 2
}
