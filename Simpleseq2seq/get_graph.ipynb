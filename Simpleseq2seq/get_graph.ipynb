{
 "cells": [
  {
   "cell_type": "code",
   "execution_count": 49,
   "metadata": {},
   "outputs": [],
   "source": [
    "from matplotlib import pyplot as plt\n",
    "import numpy as np"
   ]
  },
  {
   "cell_type": "markdown",
   "metadata": {},
   "source": [
    "### 각 모델 5개 검증정확도 추출"
   ]
  },
  {
   "cell_type": "code",
   "execution_count": 33,
   "metadata": {},
   "outputs": [],
   "source": [
    "acc_list = []\n",
    "f = open(\"./training_memo/PlusMinus/single_avg/plusminus_single_test.txt\", 'r', encoding=\"utf-8\")\n",
    "while True:\n",
    "    line = f.readline()\n",
    "    if line[:6] == '검증 정확도':\n",
    "        acc_list.append(line[7:12])\n",
    "    if not line: break\n",
    "acc_list1 = list(map(float, acc_list))\n",
    "f.close()\n",
    "\n",
    "acc_list = []\n",
    "\n",
    "f = open(\"./training_memo/PlusMinus/single_avg/2-plusminus_single_test.txt\", 'r', encoding=\"utf-8\")\n",
    "while True:\n",
    "    line = f.readline()\n",
    "    if line[:6] == '검증 정확도':\n",
    "        acc_list.append(line[7:12])\n",
    "    if not line: break\n",
    "acc_list2 = list(map(float, acc_list))\n",
    "f.close()\n",
    "\n",
    "acc_list = []\n",
    "\n",
    "f = open(\"./training_memo/PlusMinus/single_avg/3-plusminus_single_test.txt\", 'r', encoding=\"utf-8\")\n",
    "while True:\n",
    "    line = f.readline()\n",
    "    if line[:6] == '검증 정확도':\n",
    "        acc_list.append(line[7:12])\n",
    "    if not line: break\n",
    "acc_list3 = list(map(float, acc_list))\n",
    "f.close()\n",
    "\n",
    "acc_list = []\n",
    "\n",
    "f = open(\"./training_memo/PlusMinus/single_avg/4-plusminus_single_test.txt\", 'r', encoding=\"utf-8\")\n",
    "while True:\n",
    "    line = f.readline()\n",
    "    if line[:6] == '검증 정확도':\n",
    "        acc_list.append(line[7:12])\n",
    "    if not line: break\n",
    "acc_list4 = list(map(float, acc_list))\n",
    "f.close()\n",
    "\n",
    "acc_list = []\n",
    "\n",
    "f = open(\"./training_memo/PlusMinus/single_avg/5-plusminus_single_test.txt\", 'r', encoding=\"utf-8\")\n",
    "while True:\n",
    "    line = f.readline()\n",
    "    if line[:6] == '검증 정확도':\n",
    "        acc_list.append(line[7:12])\n",
    "    if not line: break\n",
    "acc_list5 = list(map(float, acc_list))\n",
    "f.close()"
   ]
  },
  {
   "cell_type": "code",
   "execution_count": 34,
   "metadata": {},
   "outputs": [],
   "source": [
    "acc_list1 = np.array(acc_list1)\n",
    "acc_list2 = np.array(acc_list2)\n",
    "acc_list3 = np.array(acc_list3)\n",
    "acc_list4 = np.array(acc_list4)\n",
    "acc_list5 = np.array(acc_list5)"
   ]
  },
  {
   "cell_type": "markdown",
   "metadata": {},
   "source": [
    "### 10 epoch 마다"
   ]
  },
  {
   "cell_type": "code",
   "execution_count": 37,
   "metadata": {},
   "outputs": [],
   "source": [
    "n_acc_list1 = []\n",
    "n_acc_list2 = []\n",
    "n_acc_list3 = []\n",
    "n_acc_list4 = []\n",
    "n_acc_list5 = []\n",
    "\n",
    "for i in range(200):\n",
    "    if i % 10 == 0:\n",
    "        n_acc_list1.append(acc_list1[i])\n",
    "        n_acc_list2.append(acc_list2[i])\n",
    "        n_acc_list3.append(acc_list3[i])\n",
    "        n_acc_list4.append(acc_list4[i])\n",
    "        n_acc_list5.append(acc_list5[i])\n",
    "    "
   ]
  },
  {
   "cell_type": "markdown",
   "metadata": {},
   "source": [
    "### 각 모델 정확도 그래프 출력"
   ]
  },
  {
   "cell_type": "markdown",
   "metadata": {},
   "source": [
    "### 10 epoch 마다"
   ]
  },
  {
   "cell_type": "code",
   "execution_count": 39,
   "metadata": {},
   "outputs": [
    {
     "data": {
      "image/png": "[encoded data removed]",
      "text/plain": [
       "<Figure size 432x288 with 1 Axes>"
      ]
     },
     "metadata": {
      "needs_background": "light"
     },
     "output_type": "display_data"
    }
   ],
   "source": [
    "# x_values = np.arange(200)\n",
    "x_values = [10, 20, 30, 40, 50, 60, 70, 80, 90, 100, 110, 120, 130, 140, 150, 160, 170, 180, 190, 200]\n",
    "plt.plot(x_values, n_acc_list1, color=\"#ff7f0e\")\n",
    "# plt.scatter(x_values, n_acc_list1, c = '#ff7f0e')\n",
    "# plt.legend(['Soft Voting'])\n",
    "plt.ylim(0, 100)\n",
    "plt.xlabel('Epoch')\n",
    "plt.ylabel('Accuracy')\n",
    "# plt.title('PlusMinus Accuracy')\n",
    "# plt.savefig('Single-1.png', dpi=300, bbox_inches='tight', pad_inches=0)\n",
    "plt.show()"
   ]
  },
  {
   "cell_type": "markdown",
   "metadata": {},
   "source": [
    "### 모든 모델 정확도 비교"
   ]
  },
  {
   "cell_type": "code",
   "execution_count": 50,
   "metadata": {},
   "outputs": [],
   "source": [
    "x_values = np.arange(200)\n",
    "f = open(\"./training_memo/PlusMinus/get_avg(esb_soft).txt\", 'r')\n",
    "f1 = open(\"./training_memo/PlusMinus/get_avg(survival).txt\", 'r')\n",
    "f2 = open(\"./training_memo/PlusMinus/get_avg(real).txt\", 'r')\n",
    "f3 = open(\"./training_memo/PlusMinus/get_avg(single).txt\", 'r')\n",
    "\n",
    "esb_lines = f.readlines()\n",
    "sur_lines = f1.readlines()\n",
    "real_lines = f2.readlines()\n",
    "single_lines = f3.readlines()\n",
    "f.close()\n",
    "f1.close()\n",
    "f2.close()\n",
    "f3.close()\n",
    "\n",
    "esb_list = list(map(float, esb_lines))\n",
    "sur_list = list(map(float, sur_lines))\n",
    "real_list = list(map(float, real_lines))\n",
    "single_list = list(map(float, single_lines))"
   ]
  },
  {
   "cell_type": "markdown",
   "metadata": {},
   "source": [
    "### 10 epoch 마다"
   ]
  },
  {
   "cell_type": "code",
   "execution_count": 51,
   "metadata": {},
   "outputs": [],
   "source": [
    "n_esb_list = []\n",
    "n_sur_list = []\n",
    "n_real_list = []\n",
    "n_single_list = []\n",
    "\n",
    "\n",
    "for i in range(200):\n",
    "    if i % 10 == 0:\n",
    "        n_esb_list.append(esb_list[i])\n",
    "        n_sur_list.append(sur_list[i])\n",
    "        n_real_list.append(real_list[i])\n",
    "        n_single_list.append(single_list[i])\n",
    "        \n"
   ]
  },
  {
   "cell_type": "code",
   "execution_count": 56,
   "metadata": {},
   "outputs": [
    {
     "data": {
      "image/png": "[encoded data removed]",
      "text/plain": [
       "<Figure size 432x288 with 1 Axes>"
      ]
     },
     "metadata": {
      "needs_background": "light"
     },
     "output_type": "display_data"
    }
   ],
   "source": [
    "# x_values = [5, 10, 15, 20, 25, 30, 35, 40, 45, 50, 55, 60, 65, 70, 75, 80, 85, 90, 95, 100, 105, 110, 115, 120, 125, 130, 135, 140, 145, 150, 155, 160, 165, 170, 175, 180, 185, 190, 195, 200]\n",
    "x_values = [10, 20, 30, 40, 50, 60, 70, 80, 90, 100, 110, 120, 130, 140, 150, 160, 170, 180, 190, 200]\n",
    "plt.plot(x_values, n_esb_list, color = \"dodgerblue\")\n",
    "plt.scatter(x_values, n_esb_list, c = 'dodgerblue', s=15)\n",
    "plt.plot(x_values, n_sur_list, color = \"#2ca02c\")\n",
    "plt.scatter(x_values, n_sur_list, c = '#2ca02c', s=15)\n",
    "plt.plot(x_values, n_real_list, color = \"#9467bd\")\n",
    "plt.scatter(x_values, n_real_list, c = '#9467bd', s=15)\n",
    "plt.plot(x_values, n_single_list, color = \"#ff7f0e\")\n",
    "plt.scatter(x_values, n_single_list, c = '#ff7f0e', s=15)\n",
    "\n",
    "plt.legend(['Soft Voting', 'Survival', 'Majority', 'Single'])\n",
    "plt.ylim(0, 100)\n",
    "plt.xlabel('Epoch')\n",
    "plt.ylabel('Accuracy')\n",
    "# plt.title('PlusMinus Accuracy')\n",
    "plt.savefig('compare Accuacy15.png', dpi=300, bbox_inches='tight', pad_inches=0)\n",
    "plt.show()\n"
   ]
  }
 ],
 "metadata": {
  "interpreter": {
   "hash": "8acd2a4c40bb06440d03e583eeea35c6596324a3385dafe16353bbc1939be192"
  },
  "kernelspec": {
   "display_name": "Python 3.6.12 ('tensorflow')",
   "language": "python",
   "name": "python3"
  },
  "language_info": {
   "codemirror_mode": {
    "name": "ipython",
    "version": 3
   },
   "file_extension": ".py",
   "mimetype": "text/x-python",
   "name": "python",
   "nbconvert_exporter": "python",
   "pygments_lexer": "ipython3",
   "version": "3.6.12"
  },
  "orig_nbformat": 4
 },
 "nbformat": 4,
 "nbformat_minor": 2
}
