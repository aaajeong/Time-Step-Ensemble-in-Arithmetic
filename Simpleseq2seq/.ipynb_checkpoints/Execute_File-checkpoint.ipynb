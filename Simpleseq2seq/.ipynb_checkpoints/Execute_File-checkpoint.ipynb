{
 "cells": [
  {
   "cell_type": "code",
   "execution_count": 3,
   "id": "f1616489",
   "metadata": {},
   "outputs": [
    {
     "name": "stdout",
     "output_type": "stream",
     "text": [
      "2021-09-15 17:30:29.551166: I tensorflow/core/platform/cpu_feature_guard.cc:143] Your CPU supports instructions that this TensorFlow binary was not compiled to use: AVX2 FMA\n",
      "2021-09-15 17:30:29.562419: I tensorflow/compiler/xla/service/service.cc:168] XLA service 0x7f8ffd7979c0 initialized for platform Host (this does not guarantee that XLA will be used). Devices:\n",
      "2021-09-15 17:30:29.562438: I tensorflow/compiler/xla/service/service.cc:176]   StreamExecutor device (0): Host, Default Version\n",
      "[name: \"/device:CPU:0\"\n",
      "device_type: \"CPU\"\n",
      "memory_limit: 268435456\n",
      "locality {\n",
      "}\n",
      "incarnation: 6179321432731779898\n",
      ", name: \"/device:XLA_CPU:0\"\n",
      "device_type: \"XLA_CPU\"\n",
      "memory_limit: 17179869184\n",
      "locality {\n",
      "}\n",
      "incarnation: 2674400442353324845\n",
      "physical_device_desc: \"device: XLA_CPU device\"\n",
      "]\n",
      "[[ 0  1  2 ...  4  5  5]\n",
      " [ 4  8  2 ...  9  3  5]\n",
      " [ 3  4  2 ...  8  5  5]\n",
      " ...\n",
      " [ 8  4 10 ...  7 11  5]\n",
      " [ 0  0  0 ... 11 10  0]\n",
      " [ 8  7 10 ... 11  8  3]]\n",
      "Traceback (most recent call last):\n",
      "  File \"./ch07/train_seq2seq.py\", line 48, in <module>\n",
      "    if config.GPU:\n",
      "NameError: name 'config' is not defined\n"
     ]
    }
   ],
   "source": [
    "! python ./ch07/train_seq2seq.py"
   ]
  },
  {
   "cell_type": "code",
   "execution_count": null,
   "id": "35323f51",
   "metadata": {},
   "outputs": [],
   "source": [
    "\n"
   ]
  }
 ],
 "metadata": {
  "kernelspec": {
   "display_name": "Python 3",
   "language": "python",
   "name": "python3"
  },
  "language_info": {
   "codemirror_mode": {
    "name": "ipython",
    "version": 3
   },
   "file_extension": ".py",
   "mimetype": "text/x-python",
   "name": "python",
   "nbconvert_exporter": "python",
   "pygments_lexer": "ipython3",
   "version": "3.6.12"
  }
 },
 "nbformat": 4,
 "nbformat_minor": 5
}
