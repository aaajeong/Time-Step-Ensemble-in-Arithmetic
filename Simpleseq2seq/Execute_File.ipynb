{
 "cells": [
  {
   "cell_type": "code",
   "execution_count": 4,
   "id": "0800eb2e",
   "metadata": {
    "scrolled": true
   },
   "outputs": [
    {
     "name": "stdout",
     "output_type": "stream",
     "text": [
      "2021-12-09 01:07:10.395492: I tensorflow/core/platform/cpu_feature_guard.cc:142] Your CPU supports instructions that this TensorFlow binary was not compiled to use: SSE4.1 SSE4.2 AVX AVX2 FMA\n",
      "2021-12-09 01:07:10.424289: I tensorflow/core/platform/profile_utils/cpu_utils.cc:94] CPU Frequency: 2095290000 Hz\n",
      "2021-12-09 01:07:10.426285: I tensorflow/compiler/xla/service/service.cc:168] XLA service 0x55c0305e8310 initialized for platform Host (this does not guarantee that XLA will be used). Devices:\n",
      "2021-12-09 01:07:10.426327: I tensorflow/compiler/xla/service/service.cc:176]   StreamExecutor device (0): Host, Default Version\n",
      "2021-12-09 01:07:10.427832: I tensorflow/stream_executor/platform/default/dso_loader.cc:44] Successfully opened dynamic library libcuda.so.1\n",
      "2021-12-09 01:07:10.450183: I tensorflow/core/common_runtime/gpu/gpu_device.cc:1555] Found device 0 with properties: \n",
      "pciBusID: 0000:84:00.0 name: GeForce GTX 1080 Ti computeCapability: 6.1\n",
      "coreClock: 1.582GHz coreCount: 28 deviceMemorySize: 10.92GiB deviceMemoryBandwidth: 451.17GiB/s\n",
      "2021-12-09 01:07:10.450427: I tensorflow/stream_executor/platform/default/dso_loader.cc:44] Successfully opened dynamic library libcudart.so.10.1\n",
      "2021-12-09 01:07:10.452854: I tensorflow/stream_executor/platform/default/dso_loader.cc:44] Successfully opened dynamic library libcublas.so.10\n",
      "2021-12-09 01:07:10.454962: I tensorflow/stream_executor/platform/default/dso_loader.cc:44] Successfully opened dynamic library libcufft.so.10\n",
      "2021-12-09 01:07:10.455273: I tensorflow/stream_executor/platform/default/dso_loader.cc:44] Successfully opened dynamic library libcurand.so.10\n",
      "2021-12-09 01:07:10.457591: I tensorflow/stream_executor/platform/default/dso_loader.cc:44] Successfully opened dynamic library libcusolver.so.10\n",
      "2021-12-09 01:07:10.458751: I tensorflow/stream_executor/platform/default/dso_loader.cc:44] Successfully opened dynamic library libcusparse.so.10\n",
      "2021-12-09 01:07:10.463604: I tensorflow/stream_executor/platform/default/dso_loader.cc:44] Successfully opened dynamic library libcudnn.so.7\n",
      "2021-12-09 01:07:10.465847: I tensorflow/core/common_runtime/gpu/gpu_device.cc:1697] Adding visible gpu devices: 0\n",
      "2021-12-09 01:07:10.465890: I tensorflow/stream_executor/platform/default/dso_loader.cc:44] Successfully opened dynamic library libcudart.so.10.1\n",
      "2021-12-09 01:07:10.663296: I tensorflow/core/common_runtime/gpu/gpu_device.cc:1096] Device interconnect StreamExecutor with strength 1 edge matrix:\n",
      "2021-12-09 01:07:10.663358: I tensorflow/core/common_runtime/gpu/gpu_device.cc:1102]      0 \n",
      "2021-12-09 01:07:10.663376: I tensorflow/core/common_runtime/gpu/gpu_device.cc:1115] 0:   N \n",
      "2021-12-09 01:07:10.667801: I tensorflow/core/common_runtime/gpu/gpu_device.cc:1241] Created TensorFlow device (/device:GPU:0 with 10489 MB memory) -> physical GPU (device: 0, name: GeForce GTX 1080 Ti, pci bus id: 0000:84:00.0, compute capability: 6.1)\n",
      "2021-12-09 01:07:10.670657: I tensorflow/compiler/xla/service/service.cc:168] XLA service 0x55c033d9d060 initialized for platform CUDA (this does not guarantee that XLA will be used). Devices:\n",
      "2021-12-09 01:07:10.670681: I tensorflow/compiler/xla/service/service.cc:176]   StreamExecutor device (0): GeForce GTX 1080 Ti, Compute Capability 6.1\n",
      "[name: \"/device:CPU:0\"\n",
      "device_type: \"CPU\"\n",
      "memory_limit: 268435456\n",
      "locality {\n",
      "}\n",
      "incarnation: 10314349569573413188\n",
      ", name: \"/device:XLA_CPU:0\"\n",
      "device_type: \"XLA_CPU\"\n",
      "memory_limit: 17179869184\n",
      "locality {\n",
      "}\n",
      "incarnation: 9754264274531384400\n",
      "physical_device_desc: \"device: XLA_CPU device\"\n",
      ", name: \"/device:GPU:0\"\n",
      "device_type: \"GPU\"\n",
      "memory_limit: 10998834791\n",
      "locality {\n",
      "  bus_id: 2\n",
      "  numa_node: 1\n",
      "  links {\n",
      "  }\n",
      "}\n",
      "incarnation: 14259140552863163554\n",
      "physical_device_desc: \"device: 0, name: GeForce GTX 1080 Ti, pci bus id: 0000:84:00.0, compute capability: 6.1\"\n",
      ", name: \"/device:XLA_GPU:0\"\n",
      "device_type: \"XLA_GPU\"\n",
      "memory_limit: 17179869184\n",
      "locality {\n",
      "}\n",
      "incarnation: 13799166873981724483\n",
      "physical_device_desc: \"device: XLA_GPU device\"\n",
      "]\n",
      "(50000, 7)\n",
      "(50000, 5)\n",
      "char_to_id:  {'6': 0, '2': 1, '-': 2, '9': 3, ' ': 4, '_': 5, '3': 6, '0': 7, '7': 8, '4': 9, '1': 10, '+': 11, '8': 12, '5': 13}\n",
      "id_to_char:  {0: '6', 1: '2', 2: '-', 3: '9', 4: ' ', 5: '_', 6: '3', 7: '0', 8: '7', 9: '4', 10: '1', 11: '+', 12: '8', 13: '5'}\n",
      "random? x_train? :  [13 12  9 11  1  8  7]\n",
      "  0%|                                                   | 0/200 [00:00<?, ?it/s]| 에폭 1 |  반복 1 / 351 | 시간 0[s] | 손실 2.64\n",
      "| 에폭 1 |  반복 21 / 351 | 시간 0[s] | 손실 2.60\n",
      "| 에폭 1 |  반복 41 / 351 | 시간 1[s] | 손실 2.30\n",
      "| 에폭 1 |  반복 61 / 351 | 시간 1[s] | 손실 2.08\n",
      "| 에폭 1 |  반복 81 / 351 | 시간 2[s] | 손실 2.03\n",
      "^C\n",
      "  0%|                                                   | 0/200 [00:03<?, ?it/s]\n",
      "Traceback (most recent call last):\n",
      "  File \"./code/train_seq2seq_single.py\", line 61, in <module>\n",
      "    batch_size=batch_size, max_grad=max_grad)\n",
      "  File \"./common/trainer.py\", line 39, in fit\n",
      "    loss = model.forward(batch_x, batch_t)\n",
      "  File \"/home/gpuadmin/ahjeong/Arithmetic-with-Seq2Seq/Simpleseq2seq/code/seq2seq.py\", line 136, in forward\n",
      "    score = self.decoder.forward(decoder_xs, h)\n",
      "  File \"/home/gpuadmin/ahjeong/Arithmetic-with-Seq2Seq/Simpleseq2seq/code/seq2seq.py\", line 80, in forward\n",
      "    out = self.lstm.forward(out)\n",
      "  File \"./common/time_layers.py\", line 202, in forward\n",
      "    self.h, self.c = layer.forward(xs[:, t, :], self.h, self.c)\n",
      "  File \"./common/time_layers.py\", line 136, in forward\n",
      "    h_next = o * np.tanh(c_next)\n",
      "KeyboardInterrupt\n"
     ]
    }
   ],
   "source": [
    "! CUDA_VISIBLE_DEVICES=2 python ./code/train_seq2seq_single.py"
   ]
  }
 ],
 "metadata": {
  "kernelspec": {
   "display_name": "Python 3",
   "language": "python",
   "name": "python3"
  },
  "language_info": {
   "codemirror_mode": {
    "name": "ipython",
    "version": 3
   },
   "file_extension": ".py",
   "mimetype": "text/x-python",
   "name": "python",
   "nbconvert_exporter": "python",
   "pygments_lexer": "ipython3",
   "version": "3.7.9"
  }
 },
 "nbformat": 4,
 "nbformat_minor": 5
}
